{
  "nbformat": 4,
  "nbformat_minor": 0,
  "metadata": {
    "colab": {
      "provenance": [],
      "mount_file_id": "1RC3ENmfDzOmF-jC_0lSN8e3c7muH3pSX",
      "authorship_tag": "ABX9TyNByoaODTBoAzFU7zgbks3n",
      "include_colab_link": true
    },
    "kernelspec": {
      "name": "python3",
      "display_name": "Python 3"
    },
    "language_info": {
      "name": "python"
    }
  },
  "cells": [
    {
      "cell_type": "markdown",
      "metadata": {
        "id": "view-in-github",
        "colab_type": "text"
      },
      "source": [
        "<a href=\"https://colab.research.google.com/github/SahajTC/Gaussian-convolution/blob/main/util.ipynb\" target=\"_parent\"><img src=\"https://colab.research.google.com/assets/colab-badge.svg\" alt=\"Open In Colab\"/></a>"
      ]
    },
    {
      "cell_type": "code",
      "execution_count": null,
      "metadata": {
        "id": "LNHSrOCEr-WM"
      },
      "outputs": [],
      "source": [
        "import os\n",
        "import numpy as np\n",
        "import torch\n",
        "import glob\n",
        "import torch.nn as nn\n",
        "from torchvision.transforms import transforms\n",
        "from torch.utils.data import DataLoader\n",
        "from torch.optim import Adam\n",
        "from torch.autograd import Variable\n",
        "import torchvision\n",
        "import pathlib\n",
        "import matplotlib.pyplot as plt\n"
      ]
    },
    {
      "cell_type": "code",
      "source": [
        "def show_transformed_images(train_path):\n",
        "  transformer=transforms.Compose([\n",
        "    transforms.Resize((150,150)),\n",
        "    transforms.RandomHorizontalFlip(),\n",
        "    transforms.ToTensor(),  #0-255 to 0-1, numpy to tensors\n",
        "    transforms.Normalize([0.5,0.5,0.5], # 0-1 to [-1,1] , formula (x-mean)/std\n",
        "                        [0.5,0.5,0.5])\n",
        "  ])\n",
        "  train_loader=DataLoader(\n",
        "    torchvision.datasets.ImageFolder(train_path,transform=transformer),\n",
        "    batch_size=4, shuffle=True\n",
        "  )\n",
        "  loader= train_loader\n",
        "  batch=next(iter(loader))\n",
        "  images,labels=batch\n",
        "\n",
        "  grid=torchvision.utils.make_grid(images,nrow=2)\n",
        "  plt.figure(figsize=(11,11))\n",
        "  img=np.transpose(grid, (1,2,0))\n",
        "  return img\n",
        "  print('labels:' , labels)"
      ],
      "metadata": {
        "id": "VK8hITj7mQTJ"
      },
      "execution_count": null,
      "outputs": []
    }
  ]
}